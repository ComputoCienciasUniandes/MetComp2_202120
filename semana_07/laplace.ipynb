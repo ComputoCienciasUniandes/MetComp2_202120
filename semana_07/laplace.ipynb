{
 "cells": [
  {
   "cell_type": "code",
   "execution_count": 7,
   "id": "5ad26339-4dbe-477e-aeb5-0b28f9598242",
   "metadata": {},
   "outputs": [],
   "source": [
    "import numpy as np\n",
    "import matplotlib.pyplot as plt"
   ]
  },
  {
   "cell_type": "code",
   "execution_count": 35,
   "id": "a60fd01b-4d28-4e95-bfba-7777e6891667",
   "metadata": {},
   "outputs": [],
   "source": [
    "n_x = 40\n",
    "n_y = 40\n",
    "\n",
    "u_inicial = np.zeros([n_x, n_y])\n",
    "y_positiva = 30\n",
    "y_negativa = 10\n",
    "\n",
    "u_inicial[10:30,y_positiva] = +100\n",
    "u_inicial[10:30,y_negativa] = -100"
   ]
  },
  {
   "cell_type": "code",
   "execution_count": 36,
   "id": "48729811-80ae-4c29-8de3-6f8e8c008c8f",
   "metadata": {},
   "outputs": [
    {
     "data": {
      "text/plain": [
       "<matplotlib.image.AxesImage at 0x7f5cad6b9190>"
      ]
     },
     "execution_count": 36,
     "metadata": {},
     "output_type": "execute_result"
    },
    {
     "data": {
      "image/png": "[encoded data removed]",
      "text/plain": [
       "<Figure size 432x288 with 1 Axes>"
      ]
     },
     "metadata": {
      "needs_background": "light"
     },
     "output_type": "display_data"
    }
   ],
   "source": [
    "plt.imshow(u_inicial)"
   ]
  },
  {
   "cell_type": "code",
   "execution_count": 43,
   "id": "f647449d-d1e1-4895-a922-3380763e1aba",
   "metadata": {},
   "outputs": [],
   "source": [
    "u_nuevo = u_inicial.copy()\n",
    "\n",
    "n_iteraciones = 50\n",
    "\n",
    "cambio = 100\n",
    "while cambio>1E-2:\n",
    "    for i in range(1,n_x-1):\n",
    "        for j in range(1,n_y-1):\n",
    "            in_placa_positiva = (i>9)&(i<30)&(j==y_positiva)\n",
    "            in_placa_negativa = (i>9)&(i<30)&(j==y_negativa)\n",
    "            if((not in_placa_positiva) and (not in_placa_negativa)):\n",
    "                u_nuevo[i,j] = 0.25*(u_inicial[i+1,j]+u_inicial[i-1,j]+\n",
    "                                    u_inicial[i,j-1]+u_inicial[i,j+1])\n",
    "    cambio = np.max(u_nuevo-u_inicial)\n",
    "    #print(cambio)\n",
    "    u_inicial = u_nuevo.copy()"
   ]
  },
  {
   "cell_type": "code",
   "execution_count": 44,
   "id": "2fe045a8-4e3f-4178-a0cb-7df8f926e87d",
   "metadata": {},
   "outputs": [
    {
     "data": {
      "text/plain": [
       "<matplotlib.colorbar.Colorbar at 0x7f5cad3911d0>"
      ]
     },
     "execution_count": 44,
     "metadata": {},
     "output_type": "execute_result"
    },
    {
     "data": {
      "image/png": "[encoded data removed]",
      "text/plain": [
       "<Figure size 432x288 with 2 Axes>"
      ]
     },
     "metadata": {
      "needs_background": "light"
     },
     "output_type": "display_data"
    }
   ],
   "source": [
    "plt.imshow(u_inicial)\n",
    "plt.colorbar()"
   ]
  },
  {
   "cell_type": "code",
   "execution_count": null,
   "id": "ee4e522d-be9a-45c0-8756-5cfcd70eedb4",
   "metadata": {},
   "outputs": [],
   "source": []
  }
 ],
 "metadata": {
  "kernelspec": {
   "display_name": "Python 3 (ipykernel)",
   "language": "python",
   "name": "python3"
  },
  "language_info": {
   "codemirror_mode": {
    "name": "ipython",
    "version": 3
   },
   "file_extension": ".py",
   "mimetype": "text/x-python",
   "name": "python",
   "nbconvert_exporter": "python",
   "pygments_lexer": "ipython3",
   "version": "3.7.10"
  }
 },
 "nbformat": 4,
 "nbformat_minor": 5
}
